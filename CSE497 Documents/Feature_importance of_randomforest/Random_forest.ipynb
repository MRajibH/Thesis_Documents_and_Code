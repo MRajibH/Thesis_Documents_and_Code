{
 "cells": [
  {
   "cell_type": "code",
   "execution_count": 6,
   "metadata": {},
   "outputs": [],
   "source": [
    "import numpy as np\n",
    "import pandas as pd\n",
    "from pandas import DataFrame, Series\n",
    "from sklearn.model_selection import train_test_split\n",
    "from sklearn.tree import export_graphviz\n",
    "import matplotlib.pyplot as plt\n",
    "import PIL\n",
    "import warnings\n",
    "from glob import glob\n",
    "from IPython.display import display, Image\n",
    "import io\n",
    "import pydotplus\n",
    "from sklearn import preprocessing\n",
    "from sklearn.ensemble import RandomForestClassifier\n",
    "from sklearn.feature_selection import SelectFromModel\n",
    "\n",
    "%matplotlib inline"
   ]
  },
  {
   "cell_type": "code",
   "execution_count": 7,
   "metadata": {},
   "outputs": [],
   "source": [
    "data = pd.read_csv(r\"C:\\Users\\lenovo\\Desktop\\Thesis\\Dataset final\\Suicide_dataset_numeric.csv\")"
   ]
  },
  {
   "cell_type": "code",
   "execution_count": 8,
   "metadata": {},
   "outputs": [
    {
     "data": {
      "text/plain": [
       "Index(['attempt_suicide', 'Age_group', 'Gender', 'Marital_status',\n",
       "       'Occupation', 'Problem_with_family', 'Marital_dissatisfaction',\n",
       "       'Relationship_problem', 'Unexpected_result_or_failed in exam',\n",
       "       'Sexual_harassment', 'financial_constraint', 'Problem_in_workspace',\n",
       "       'Victim_of_domestic_violation', 'Chronic_physical_illness', 'Depressed',\n",
       "       'Struggled_with_dept', 'Mentall_illness_apart_from depression',\n",
       "       'Not_getting_job', 'False_allegation', 'Age'],\n",
       "      dtype='object')"
      ]
     },
     "execution_count": 8,
     "metadata": {},
     "output_type": "execute_result"
    }
   ],
   "source": [
    "features = data.columns\n",
    "features"
   ]
  },
  {
   "cell_type": "code",
   "execution_count": 9,
   "metadata": {},
   "outputs": [
    {
     "data": {
      "text/plain": [
       "['Age_group',\n",
       " 'Gender',\n",
       " 'Marital_status',\n",
       " 'Occupation',\n",
       " 'Problem_with_family',\n",
       " 'Marital_dissatisfaction',\n",
       " 'Relationship_problem',\n",
       " 'Unexpected_result_or_failed in exam',\n",
       " 'Sexual_harassment',\n",
       " 'financial_constraint',\n",
       " 'Problem_in_workspace',\n",
       " 'Victim_of_domestic_violation',\n",
       " 'Chronic_physical_illness',\n",
       " 'Depressed',\n",
       " 'Struggled_with_dept',\n",
       " 'Mentall_illness_apart_from depression',\n",
       " 'Not_getting_job',\n",
       " 'False_allegation']"
      ]
     },
     "execution_count": 9,
     "metadata": {},
     "output_type": "execute_result"
    }
   ],
   "source": [
    "\n",
    "features = [x for x in features if x != 'attempt_suicide' and x != 'Age']\n",
    "#We choosed to use age group instead of age\n",
    "features"
   ]
  },
  {
   "cell_type": "code",
   "execution_count": 10,
   "metadata": {},
   "outputs": [
    {
     "name": "stdout",
     "output_type": "stream",
     "text": [
      "426\n",
      "298\n",
      "128\n"
     ]
    }
   ],
   "source": [
    "train, test = train_test_split(data, test_size = 0.3)\n",
    "print(len(data))\n",
    "print(len(train))\n",
    "print(len(test))"
   ]
  },
  {
   "cell_type": "code",
   "execution_count": 11,
   "metadata": {},
   "outputs": [],
   "source": [
    "RF = RandomForestClassifier(n_estimators=5, max_depth=2,\n",
    "                             random_state=0)"
   ]
  },
  {
   "cell_type": "code",
   "execution_count": 18,
   "metadata": {},
   "outputs": [],
   "source": [
    "x_train = train[features]\n",
    "y_train = train[\"attempt_suicide\"]\n",
    "\n",
    "x_test = test[features]\n",
    "y_test = test[\"attempt_suicide\"]\n",
    "RF = RF.fit(x_train, y_train)"
   ]
  },
  {
   "cell_type": "code",
   "execution_count": null,
   "metadata": {},
   "outputs": [],
   "source": []
  },
  {
   "cell_type": "code",
   "execution_count": 19,
   "metadata": {},
   "outputs": [
    {
     "data": {
      "image/png": "[encoded data removed]",
      "text/plain": [
       "<Figure size 432x288 with 1 Axes>"
      ]
     },
     "metadata": {
      "needs_background": "light"
     },
     "output_type": "display_data"
    }
   ],
   "source": [
    "from sklearn.ensemble import ExtraTreesClassifier\n",
    "model = ExtraTreesClassifier(n_estimators=10)\n",
    "model.fit(x_train,y_train)\n",
    "feat_importances = pd.Series(model.feature_importances_, index=x_train.columns)\n",
    "feat_importances.nlargest(19).plot(kind='barh')\n",
    "plt.ylabel('Features',fontsize=12,fontweight='bold')\n",
    "plt.xlabel('Scores',fontsize=12,fontweight='bold')\n",
    "plt.show()"
   ]
  },
  {
   "cell_type": "code",
   "execution_count": null,
   "metadata": {},
   "outputs": [],
   "source": []
  }
 ],
 "metadata": {
  "kernelspec": {
   "display_name": "Python 3",
   "language": "python",
   "name": "python3"
  },
  "language_info": {
   "codemirror_mode": {
    "name": "ipython",
    "version": 3
   },
   "file_extension": ".py",
   "mimetype": "text/x-python",
   "name": "python",
   "nbconvert_exporter": "python",
   "pygments_lexer": "ipython3",
   "version": "3.7.4"
  }
 },
 "nbformat": 4,
 "nbformat_minor": 4
}
